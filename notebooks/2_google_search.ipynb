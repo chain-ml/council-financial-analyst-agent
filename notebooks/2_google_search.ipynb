{
 "cells": [
  {
   "attachments": {},
   "cell_type": "markdown",
   "id": "6edb0d02-1454-4f1d-9537-13cc9a0acdad",
   "metadata": {},
   "source": [
    "# Create a Google Search Agent\n",
    "\n",
    "In this tutorial, we will be using `council` to build a search agent that can leverage both Google Search and Google News to answer a user question about Microsoft.\n",
    "\n",
    "Code from this notebook will be used to build the Financial Analyst Agent in `4_financial_analyst_agent`, but this notebook can also be executed to create a standalone search agent."
   ]
  },
  {
   "attachments": {},
   "cell_type": "markdown",
   "id": "5dc54252-3a78-4897-bf88-f1f20430c2ce",
   "metadata": {},
   "source": [
    "## Important Prerequisities\n",
    "\n",
    "API keys for using Google Search are not provided. You will be asked to insert your own `GOOGLE_API_KEY` and `GOOGLE_SEARCH_ENGINE_ID` keys as environment variables.\n",
    "\n",
    "To create a `GOOGLE_API_KEY`:\n",
    "\n",
    "- Navigate to the [Google Cloud Console](https://console.cloud.google.com/) and log in with your Google account.\n",
    "- Click the project drop-down and select or create the project for which you want to add an API key.\n",
    "- Using the search bar, find the \"APIs & Services\" page\n",
    "- Navigate to \"Credentials\" on the left-hand side\n",
    "- Click the \"Create credentials\" drop-down and select \"API key\".\n",
    "\n",
    "To create a `GOOGLE_SEARCH_ENGINE_ID`: \n",
    "\n",
    "- Navigate to Google's [Programmable Search Engine](https://programmablesearchengine.google.com/about/) page. Make sure you're logged in with the same Google account used to create your `GOOGLE_API_KEY`.\n",
    "- Click the \"Get Started\" button\n",
    "- Fill out the form to create a new search engine\n",
    "- Find the Search engine ID "
   ]
  },
  {
   "attachments": {},
   "cell_type": "markdown",
   "id": "3a103392-1abf-411e-8d47-c9188a8685b7",
   "metadata": {},
   "source": [
    "## Install the council-ai library"
   ]
  },
  {
   "cell_type": "code",
   "execution_count": null,
   "id": "91e02e88-f188-4b0a-b956-78d261ddcbd5",
   "metadata": {},
   "outputs": [],
   "source": [
    "!pip install council-ai"
   ]
  },
  {
   "attachments": {},
   "cell_type": "markdown",
   "id": "09830764-af11-4d81-9485-b661bb7ebe65",
   "metadata": {},
   "source": [
    "## Import the required modules"
   ]
  },
  {
   "cell_type": "code",
   "execution_count": null,
   "id": "0db9e906-eb5f-4c42-857e-66fa23f863b6",
   "metadata": {},
   "outputs": [],
   "source": [
    "import json\n",
    "import os\n",
    "\n",
    "from typing import List\n",
    "from string import Template\n",
    "\n",
    "from council.skills import SkillBase, LLMSkill, PromptToMessages\n",
    "from council.skills.google import GoogleSearchSkill, GoogleNewsSkill\n",
    "from council.runners import Parallel\n",
    "from council.contexts import SkillContext, ChatMessage, Budget\n",
    "from council.filters import BasicFilter\n",
    "from council.llm import OpenAILLM, LLMMessage\n",
    "from council.prompt import PromptBuilder\n",
    "from council.chains import Chain\n",
    "from council.agents import Agent\n",
    "from council.contexts import AgentContext\n",
    "from council.controllers import BasicController\n",
    "from council.evaluators import BasicEvaluator\n",
    "\n",
    "import dotenv\n",
    "dotenv.load_dotenv()\n",
    "\n",
    "print(f\"OPENAI_API_KEY set: {os.getenv('OPENAI_API_KEY', None) is not None}\")\n",
    "print(f\"GOOGLE_SEARCH_ENGINE_ID set: {os.getenv('GOOGLE_SEARCH_ENGINE_ID', None) is not None}\")\n",
    "print(f\"GOOGLE_API_KEY set: {os.getenv('GOOGLE_API_KEY', None) is not None}\")"
   ]
  },
  {
   "attachments": {},
   "cell_type": "markdown",
   "id": "ad718a30-65d3-40f4-a7f9-7b68a210875d",
   "metadata": {},
   "source": [
    "## Specifying constants used in the notebook"
   ]
  },
  {
   "cell_type": "code",
   "execution_count": null,
   "id": "26aeb79f-8d2d-49d0-a5fd-518152ec9a26",
   "metadata": {},
   "outputs": [],
   "source": [
    "COMPANY_NAME = \"Microsoft\"\n",
    "COMPANY_TICKER = \"MSFT\""
   ]
  },
  {
   "attachments": {},
   "cell_type": "markdown",
   "id": "7fd34fec-7586-4f04-821a-ee43b8eb8790",
   "metadata": {},
   "source": [
    "## Initialize search skills\n",
    "The [GoogleSearchSkill](https://github.com/chain-ml/council/blob/main/council/skills/google/google_search_skill.py) and [GoogleNewsSkill](https://github.com/chain-ml/council/blob/main/council/skills/google/google_news_skill.py) are available directly in council. We would like this agent to leverage search results from both Google Search and Google News, so we create another skill called `GoogleAggregator` to aggregate the results from both. This skill will search the context for the messages created by the `GoogleSearchSkill` and `GoogleNewsSkill`, extract their results, and combine the title and snippet from each search result to form paragraphs of text as context to an LLM.\n",
    "\n",
    "More specifically, we can access the information for the current execution of the chain by calling the `current` method on the `context`. This will return the `ChainHistory` that contains all the messages in the chain, such as those from the user, an agent or from a skill itself. of We can then search the messages in the current chain execution to find those from the `GoogleSearchSkill` and `GoogleNewsSkill`. In council, every skill has a name, and the skill names for Search and News are `gsearch` and `gnews`, respectively. We use the `last_message_from_skill` method to find the search result."
   ]
  },
  {
   "cell_type": "code",
   "execution_count": null,
   "id": "b779cc35-b719-44f9-a164-83cc7de4667b",
   "metadata": {},
   "outputs": [],
   "source": [
    "# Initializing Google News and Google Search skills\n",
    "google_search_skill = GoogleSearchSkill()\n",
    "google_news_skill = GoogleNewsSkill()\n",
    "\n",
    "\n",
    "# Google aggregator skill\n",
    "class GoogleAggregatorSkill(SkillBase):\n",
    "    \"\"\"Skill to aggregate results from Google Search and Google News\"\"\"\n",
    "\n",
    "    def __init__(\n",
    "        self,\n",
    "    ):\n",
    "        super().__init__(name=\"google_aggregator\")\n",
    "\n",
    "    def execute(self, context: SkillContext) -> ChatMessage:\n",
    "        gsearch_results = (\n",
    "            json.loads(context.current.last_message_from_skill(\"gsearch\").data)\n",
    "            if context.current.last_message_from_skill(\"gsearch\").is_ok\n",
    "            else []\n",
    "        )\n",
    "        gnews_results = (\n",
    "            json.loads(context.current.last_message_from_skill(\"gnews\").data)\n",
    "            if context.current.last_message_from_skill(\"gnews\").is_ok\n",
    "            else []\n",
    "        )\n",
    "        search_results = gsearch_results + gnews_results\n",
    "\n",
    "        context = \"\"\n",
    "        for result in search_results:\n",
    "            text = result.get(\"title\", \"\") + \" \" + result.get(\"snippet\", \"\") + \"\\n\\n\"\n",
    "            context += text\n",
    "\n",
    "        return self.build_success_message(context)\n",
    "\n",
    "# Initializing Google aggregation skill\n",
    "google_aggregator_skill = GoogleAggregatorSkill()"
   ]
  },
  {
   "attachments": {},
   "cell_type": "markdown",
   "id": "b8286332-a760-4d45-a81e-b8c9a285c260",
   "metadata": {},
   "source": [
    "## Create the LLMSkill\n",
    "The `LLMSkill` is a skill provided by council that can make a call and return a response from an LLM model. \n",
    "We will inject the context created from the retrieved documents by the `GoogleAggregatorSkill` into the `LLMSkill`."
   ]
  },
  {
   "cell_type": "code",
   "execution_count": null,
   "id": "991695d0-55e8-43a2-a6df-5fd8e068e5be",
   "metadata": {},
   "outputs": [],
   "source": [
    "# LLM Skill\n",
    "llm = OpenAILLM.from_env(model='gpt-3.5-turbo')\n",
    "\n",
    "SYSTEM_MESSAGE = \"You are a research analyst whose job it is to answer user questions about $company with the provided context.\"\n",
    "\n",
    "PROMPT = \"\"\"Use the following pieces of context to answer the query.\n",
    "If the answer is not provided in the context, do not make up an answer. Instead, respond that you do not know.\n",
    "\n",
    "CONTEXT:\n",
    "{{chain_history.last_message}}\n",
    "END CONTEXT.\n",
    "\n",
    "QUERY:\n",
    "{{chat_history.user.last_message}}\n",
    "END QUERY.\n",
    "\n",
    "YOUR ANSWER:\n",
    "\"\"\"\n",
    "\n",
    "def build_context_messages(context: SkillContext) -> List[LLMMessage]:\n",
    "    \"\"\"Context messages function for LLMSkill\"\"\"\n",
    "    context_message_prompt = PromptToMessages(prompt_builder=PromptBuilder(PROMPT))\n",
    "    return context_message_prompt.to_user_message(context)\n",
    "\n",
    "\n",
    "llm_skill = LLMSkill(\n",
    "    llm=llm,\n",
    "    system_prompt=Template(SYSTEM_MESSAGE).substitute(company=COMPANY_NAME),\n",
    "    context_messages=build_context_messages,\n",
    ")"
   ]
  },
  {
   "attachments": {},
   "cell_type": "markdown",
   "id": "015d60fe-a4d2-4a1b-8b7f-41d1f5f7dfd0",
   "metadata": {},
   "source": [
    "## Create the chain\n",
    "Since the `GoogleSearchSkill` and `GoogleNewsSkill` can be run independently of each other, we will run the skills in parallel for the chain to execute faster, before aggregating them together in the `GoogleAggregatorSkill`.\n",
    "\n",
    "council provides easy-to-use functionality to run skills in parallel within a chain. We simply wrap the search and news skill in the `Parallel` class."
   ]
  },
  {
   "cell_type": "code",
   "execution_count": null,
   "id": "f46d701e-0bbe-4e41-bcbe-9508e9f83ac5",
   "metadata": {},
   "outputs": [],
   "source": [
    "search_chain = Chain(\n",
    "    name=\"search_chain\",\n",
    "    description=f\"Information about {COMPANY_NAME} ({COMPANY_TICKER}) using a Google search\",\n",
    "    runners=[\n",
    "        Parallel(google_search_skill, google_news_skill),\n",
    "        google_aggregator_skill,\n",
    "        llm_skill\n",
    "    ],\n",
    ")"
   ]
  },
  {
   "attachments": {},
   "cell_type": "markdown",
   "id": "6a889ad1-938b-4872-9b7f-213d6c9ed5f5",
   "metadata": {},
   "source": [
    "## Create the search agent\n",
    "\n",
    "The agent will use the search chain we created and the `BasicController` and `BasicEvaluator`, which will select our single chain and return the response to the user.\n",
    "\n",
    "Notebooks `3_controller` and `4_financial_analyst_agent` will demonstrate more complicated uses of the controller and evaluator."
   ]
  },
  {
   "cell_type": "code",
   "execution_count": null,
   "id": "c3624187-14d5-4966-be70-dcb328e9f518",
   "metadata": {},
   "outputs": [],
   "source": [
    "agent = Agent(controller=BasicController(chains=[search_chain]), evaluator=BasicEvaluator(), filter=BasicFilter())"
   ]
  },
  {
   "attachments": {},
   "cell_type": "markdown",
   "id": "3733c859-c30e-4249-a522-d477299c7b48",
   "metadata": {},
   "source": [
    "## Interact with the agent"
   ]
  },
  {
   "cell_type": "code",
   "execution_count": null,
   "id": "88ca4278-3791-41f8-970f-4dafcf4b82e6",
   "metadata": {},
   "outputs": [],
   "source": [
    "run_context = AgentContext.from_user_message(\"What is the financial performance of Microsoft?\", budget=Budget(60))\n",
    "result = agent.execute(run_context)\n",
    "print(result.best_message.message)"
   ]
  },
  {
   "attachments": {},
   "cell_type": "markdown",
   "id": "5a0ab8f7-1832-4804-ad0a-0ead59b7c391",
   "metadata": {},
   "source": [
    "In the [next part](./3_controller.ipynb), we will create a custom controller for our financial analyst. "
   ]
  }
 ],
 "metadata": {
  "kernelspec": {
   "display_name": "Python 3 (ipykernel)",
   "language": "python",
   "name": "python3"
  },
  "language_info": {
   "codemirror_mode": {
    "name": "ipython",
    "version": 3
   },
   "file_extension": ".py",
   "mimetype": "text/x-python",
   "name": "python",
   "nbconvert_exporter": "python",
   "pygments_lexer": "ipython3",
   "version": "3.10.12"
  }
 },
 "nbformat": 4,
 "nbformat_minor": 5
}
